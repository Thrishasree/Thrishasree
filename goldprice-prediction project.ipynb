{
 "cells": [
  {
   "cell_type": "code",
   "execution_count": 2,
   "id": "20b90f95",
   "metadata": {
    "execution": {
     "iopub.execute_input": "2024-05-30T19:25:52.766876Z",
     "iopub.status.busy": "2024-05-30T19:25:52.764487Z",
     "iopub.status.idle": "2024-05-30T19:25:54.603148Z",
     "shell.execute_reply": "2024-05-30T19:25:54.602284Z"
    },
    "papermill": {
     "duration": 1.852578,
     "end_time": "2024-05-30T19:25:54.605922",
     "exception": false,
     "start_time": "2024-05-30T19:25:52.753344",
     "status": "completed"
    },
    "tags": []
   },
   "outputs": [],
   "source": [
    "import matplotlib.pyplot as plt\n",
    "import seaborn as sns\n",
    "from sklearn.model_selection import train_test_split\n",
    "from sklearn.ensemble import RandomForestRegressor\n",
    "from sklearn import metrics"
   ]
  },
  {
   "cell_type": "markdown",
   "id": "85f9d77d",
   "metadata": {
    "papermill": {
     "duration": 0.0101,
     "end_time": "2024-05-30T19:25:54.626168",
     "exception": false,
     "start_time": "2024-05-30T19:25:54.616068",
     "status": "completed"
    },
    "tags": []
   },
   "source": [
    "# **Data Collection and Processing**"
   ]
  },
  {
   "cell_type": "markdown",
   "id": "2c641faa",
   "metadata": {
    "papermill": {
     "duration": 0.00946,
     "end_time": "2024-05-30T19:25:54.645400",
     "exception": false,
     "start_time": "2024-05-30T19:25:54.635940",
     "status": "completed"
    },
    "tags": []
   },
   "source": [
    "importing data"
   ]
  },
  {
   "cell_type": "markdown",
   "id": "f35e464e",
   "metadata": {
    "papermill": {
     "duration": 0.009277,
     "end_time": "2024-05-30T19:25:54.664342",
     "exception": false,
     "start_time": "2024-05-30T19:25:54.655065",
     "status": "completed"
    },
    "tags": []
   },
   "source": []
  },
  {
   "cell_type": "code",
   "execution_count": 3,
   "id": "53ae760f",
   "metadata": {
    "execution": {
     "iopub.execute_input": "2024-05-30T19:25:54.685567Z",
     "iopub.status.busy": "2024-05-30T19:25:54.685058Z",
     "iopub.status.idle": "2024-05-30T19:25:54.730644Z",
     "shell.execute_reply": "2024-05-30T19:25:54.729465Z"
    },
    "papermill": {
     "duration": 0.059241,
     "end_time": "2024-05-30T19:25:54.733219",
     "exception": false,
     "start_time": "2024-05-30T19:25:54.673978",
     "status": "completed"
    },
    "tags": []
   },
   "outputs": [
    {
     "data": {
      "text/html": [
       "<div>\n",
       "<style scoped>\n",
       "    .dataframe tbody tr th:only-of-type {\n",
       "        vertical-align: middle;\n",
       "    }\n",
       "\n",
       "    .dataframe tbody tr th {\n",
       "        vertical-align: top;\n",
       "    }\n",
       "\n",
       "    .dataframe thead th {\n",
       "        text-align: right;\n",
       "    }\n",
       "</style>\n",
       "<table border=\"1\" class=\"dataframe\">\n",
       "  <thead>\n",
       "    <tr style=\"text-align: right;\">\n",
       "      <th></th>\n",
       "      <th>Date</th>\n",
       "      <th>SPX</th>\n",
       "      <th>GLD</th>\n",
       "      <th>USO</th>\n",
       "      <th>SLV</th>\n",
       "      <th>EUR/USD</th>\n",
       "    </tr>\n",
       "  </thead>\n",
       "  <tbody>\n",
       "    <tr>\n",
       "      <th>0</th>\n",
       "      <td>1/2/2008</td>\n",
       "      <td>1447.160034</td>\n",
       "      <td>84.860001</td>\n",
       "      <td>78.470001</td>\n",
       "      <td>15.180</td>\n",
       "      <td>1.471692</td>\n",
       "    </tr>\n",
       "    <tr>\n",
       "      <th>1</th>\n",
       "      <td>1/3/2008</td>\n",
       "      <td>1447.160034</td>\n",
       "      <td>85.570000</td>\n",
       "      <td>78.370003</td>\n",
       "      <td>15.285</td>\n",
       "      <td>1.474491</td>\n",
       "    </tr>\n",
       "    <tr>\n",
       "      <th>2</th>\n",
       "      <td>1/4/2008</td>\n",
       "      <td>1411.630005</td>\n",
       "      <td>85.129997</td>\n",
       "      <td>77.309998</td>\n",
       "      <td>15.167</td>\n",
       "      <td>1.475492</td>\n",
       "    </tr>\n",
       "    <tr>\n",
       "      <th>3</th>\n",
       "      <td>1/7/2008</td>\n",
       "      <td>1416.180054</td>\n",
       "      <td>84.769997</td>\n",
       "      <td>75.500000</td>\n",
       "      <td>15.053</td>\n",
       "      <td>1.468299</td>\n",
       "    </tr>\n",
       "    <tr>\n",
       "      <th>4</th>\n",
       "      <td>1/8/2008</td>\n",
       "      <td>1390.189941</td>\n",
       "      <td>86.779999</td>\n",
       "      <td>76.059998</td>\n",
       "      <td>15.590</td>\n",
       "      <td>1.557099</td>\n",
       "    </tr>\n",
       "  </tbody>\n",
       "</table>\n",
       "</div>"
      ],
      "text/plain": [
       "       Date          SPX        GLD        USO     SLV   EUR/USD\n",
       "0  1/2/2008  1447.160034  84.860001  78.470001  15.180  1.471692\n",
       "1  1/3/2008  1447.160034  85.570000  78.370003  15.285  1.474491\n",
       "2  1/4/2008  1411.630005  85.129997  77.309998  15.167  1.475492\n",
       "3  1/7/2008  1416.180054  84.769997  75.500000  15.053  1.468299\n",
       "4  1/8/2008  1390.189941  86.779999  76.059998  15.590  1.557099"
      ]
     },
     "execution_count": 3,
     "metadata": {},
     "output_type": "execute_result"
    }
   ],
   "source": [
    "data = pd.read_csv(\"/kaggle/input/gold-price-data/gld_price_data.csv\")\n",
    "\n",
    "#printing data\n",
    "data.head()"
   ]
  },
  {
   "cell_type": "code",
   "execution_count": 4,
   "id": "8b252a5e",
   "metadata": {
    "execution": {
     "iopub.execute_input": "2024-05-30T19:25:54.757256Z",
     "iopub.status.busy": "2024-05-30T19:25:54.756028Z",
     "iopub.status.idle": "2024-05-30T19:25:54.771187Z",
     "shell.execute_reply": "2024-05-30T19:25:54.769954Z"
    },
    "papermill": {
     "duration": 0.029684,
     "end_time": "2024-05-30T19:25:54.773846",
     "exception": false,
     "start_time": "2024-05-30T19:25:54.744162",
     "status": "completed"
    },
    "tags": []
   },
   "outputs": [
    {
     "data": {
      "text/html": [
       "<div>\n",
       "<style scoped>\n",
       "    .dataframe tbody tr th:only-of-type {\n",
       "        vertical-align: middle;\n",
       "    }\n",
       "\n",
       "    .dataframe tbody tr th {\n",
       "        vertical-align: top;\n",
       "    }\n",
       "\n",
       "    .dataframe thead th {\n",
       "        text-align: right;\n",
       "    }\n",
       "</style>\n",
       "<table border=\"1\" class=\"dataframe\">\n",
       "  <thead>\n",
       "    <tr style=\"text-align: right;\">\n",
       "      <th></th>\n",
       "      <th>Date</th>\n",
       "      <th>SPX</th>\n",
       "      <th>GLD</th>\n",
       "      <th>USO</th>\n",
       "      <th>SLV</th>\n",
       "      <th>EUR/USD</th>\n",
       "    </tr>\n",
       "  </thead>\n",
       "  <tbody>\n",
       "    <tr>\n",
       "      <th>2285</th>\n",
       "      <td>5/8/2018</td>\n",
       "      <td>2671.919922</td>\n",
       "      <td>124.589996</td>\n",
       "      <td>14.0600</td>\n",
       "      <td>15.5100</td>\n",
       "      <td>1.186789</td>\n",
       "    </tr>\n",
       "    <tr>\n",
       "      <th>2286</th>\n",
       "      <td>5/9/2018</td>\n",
       "      <td>2697.790039</td>\n",
       "      <td>124.330002</td>\n",
       "      <td>14.3700</td>\n",
       "      <td>15.5300</td>\n",
       "      <td>1.184722</td>\n",
       "    </tr>\n",
       "    <tr>\n",
       "      <th>2287</th>\n",
       "      <td>5/10/2018</td>\n",
       "      <td>2723.070068</td>\n",
       "      <td>125.180000</td>\n",
       "      <td>14.4100</td>\n",
       "      <td>15.7400</td>\n",
       "      <td>1.191753</td>\n",
       "    </tr>\n",
       "    <tr>\n",
       "      <th>2288</th>\n",
       "      <td>5/14/2018</td>\n",
       "      <td>2730.129883</td>\n",
       "      <td>124.489998</td>\n",
       "      <td>14.3800</td>\n",
       "      <td>15.5600</td>\n",
       "      <td>1.193118</td>\n",
       "    </tr>\n",
       "    <tr>\n",
       "      <th>2289</th>\n",
       "      <td>5/16/2018</td>\n",
       "      <td>2725.780029</td>\n",
       "      <td>122.543800</td>\n",
       "      <td>14.4058</td>\n",
       "      <td>15.4542</td>\n",
       "      <td>1.182033</td>\n",
       "    </tr>\n",
       "  </tbody>\n",
       "</table>\n",
       "</div>"
      ],
      "text/plain": [
       "           Date          SPX         GLD      USO      SLV   EUR/USD\n",
       "2285   5/8/2018  2671.919922  124.589996  14.0600  15.5100  1.186789\n",
       "2286   5/9/2018  2697.790039  124.330002  14.3700  15.5300  1.184722\n",
       "2287  5/10/2018  2723.070068  125.180000  14.4100  15.7400  1.191753\n",
       "2288  5/14/2018  2730.129883  124.489998  14.3800  15.5600  1.193118\n",
       "2289  5/16/2018  2725.780029  122.543800  14.4058  15.4542  1.182033"
      ]
     },
     "execution_count": 4,
     "metadata": {},
     "output_type": "execute_result"
    }
   ],
   "source": [
    "#printing last 5 data vectors\n",
    "data.tail()"
   ]
  },
  {
   "cell_type": "code",
   "execution_count": 5,
   "id": "684edbac",
   "metadata": {
    "execution": {
     "iopub.execute_input": "2024-05-30T19:25:54.798918Z",
     "iopub.status.busy": "2024-05-30T19:25:54.798128Z",
     "iopub.status.idle": "2024-05-30T19:25:54.805086Z",
     "shell.execute_reply": "2024-05-30T19:25:54.803982Z"
    },
    "papermill": {
     "duration": 0.022947,
     "end_time": "2024-05-30T19:25:54.807249",
     "exception": false,
     "start_time": "2024-05-30T19:25:54.784302",
     "status": "completed"
    },
    "tags": []
   },
   "outputs": [
    {
     "data": {
      "text/plain": [
       "(2290, 6)"
      ]
     },
     "execution_count": 5,
     "metadata": {},
     "output_type": "execute_result"
    }
   ],
   "source": [
    "#number of rows and columns\n",
    "data.shape"
   ]
  },
  {
   "cell_type": "code",
   "execution_count": 6,
   "id": "79fb6b94",
   "metadata": {
    "execution": {
     "iopub.execute_input": "2024-05-30T19:25:54.831360Z",
     "iopub.status.busy": "2024-05-30T19:25:54.830580Z",
     "iopub.status.idle": "2024-05-30T19:25:54.855210Z",
     "shell.execute_reply": "2024-05-30T19:25:54.853824Z"
    },
    "papermill": {
     "duration": 0.039883,
     "end_time": "2024-05-30T19:25:54.857801",
     "exception": false,
     "start_time": "2024-05-30T19:25:54.817918",
     "status": "completed"
    },
    "tags": []
   },
   "outputs": [
    {
     "name": "stdout",
     "output_type": "stream",
     "text": [
      "<class 'pandas.core.frame.DataFrame'>\n",
      "RangeIndex: 2290 entries, 0 to 2289\n",
      "Data columns (total 6 columns):\n",
      " #   Column   Non-Null Count  Dtype  \n",
      "---  ------   --------------  -----  \n",
      " 0   Date     2290 non-null   object \n",
      " 1   SPX      2290 non-null   float64\n",
      " 2   GLD      2290 non-null   float64\n",
      " 3   USO      2290 non-null   float64\n",
      " 4   SLV      2290 non-null   float64\n",
      " 5   EUR/USD  2290 non-null   float64\n",
      "dtypes: float64(5), object(1)\n",
      "memory usage: 107.5+ KB\n"
     ]
    }
   ],
   "source": [
    "#getting information\n",
    "data.info()"
   ]
  },
  {
   "cell_type": "code",
   "execution_count": 7,
   "id": "a8cf71ce",
   "metadata": {
    "execution": {
     "iopub.execute_input": "2024-05-30T19:25:54.881815Z",
     "iopub.status.busy": "2024-05-30T19:25:54.881089Z",
     "iopub.status.idle": "2024-05-30T19:25:54.910329Z",
     "shell.execute_reply": "2024-05-30T19:25:54.908835Z"
    },
    "papermill": {
     "duration": 0.044474,
     "end_time": "2024-05-30T19:25:54.912924",
     "exception": false,
     "start_time": "2024-05-30T19:25:54.868450",
     "status": "completed"
    },
    "tags": []
   },
   "outputs": [
    {
     "data": {
      "text/html": [
       "<div>\n",
       "<style scoped>\n",
       "    .dataframe tbody tr th:only-of-type {\n",
       "        vertical-align: middle;\n",
       "    }\n",
       "\n",
       "    .dataframe tbody tr th {\n",
       "        vertical-align: top;\n",
       "    }\n",
       "\n",
       "    .dataframe thead th {\n",
       "        text-align: right;\n",
       "    }\n",
       "</style>\n",
       "<table border=\"1\" class=\"dataframe\">\n",
       "  <thead>\n",
       "    <tr style=\"text-align: right;\">\n",
       "      <th></th>\n",
       "      <th>SPX</th>\n",
       "      <th>GLD</th>\n",
       "      <th>USO</th>\n",
       "      <th>SLV</th>\n",
       "      <th>EUR/USD</th>\n",
       "    </tr>\n",
       "  </thead>\n",
       "  <tbody>\n",
       "    <tr>\n",
       "      <th>count</th>\n",
       "      <td>2290.000000</td>\n",
       "      <td>2290.000000</td>\n",
       "      <td>2290.000000</td>\n",
       "      <td>2290.000000</td>\n",
       "      <td>2290.000000</td>\n",
       "    </tr>\n",
       "    <tr>\n",
       "      <th>mean</th>\n",
       "      <td>1654.315776</td>\n",
       "      <td>122.732875</td>\n",
       "      <td>31.842221</td>\n",
       "      <td>20.084997</td>\n",
       "      <td>1.283653</td>\n",
       "    </tr>\n",
       "    <tr>\n",
       "      <th>std</th>\n",
       "      <td>519.111540</td>\n",
       "      <td>23.283346</td>\n",
       "      <td>19.523517</td>\n",
       "      <td>7.092566</td>\n",
       "      <td>0.131547</td>\n",
       "    </tr>\n",
       "    <tr>\n",
       "      <th>min</th>\n",
       "      <td>676.530029</td>\n",
       "      <td>70.000000</td>\n",
       "      <td>7.960000</td>\n",
       "      <td>8.850000</td>\n",
       "      <td>1.039047</td>\n",
       "    </tr>\n",
       "    <tr>\n",
       "      <th>25%</th>\n",
       "      <td>1239.874969</td>\n",
       "      <td>109.725000</td>\n",
       "      <td>14.380000</td>\n",
       "      <td>15.570000</td>\n",
       "      <td>1.171313</td>\n",
       "    </tr>\n",
       "    <tr>\n",
       "      <th>50%</th>\n",
       "      <td>1551.434998</td>\n",
       "      <td>120.580002</td>\n",
       "      <td>33.869999</td>\n",
       "      <td>17.268500</td>\n",
       "      <td>1.303297</td>\n",
       "    </tr>\n",
       "    <tr>\n",
       "      <th>75%</th>\n",
       "      <td>2073.010070</td>\n",
       "      <td>132.840004</td>\n",
       "      <td>37.827501</td>\n",
       "      <td>22.882500</td>\n",
       "      <td>1.369971</td>\n",
       "    </tr>\n",
       "    <tr>\n",
       "      <th>max</th>\n",
       "      <td>2872.870117</td>\n",
       "      <td>184.589996</td>\n",
       "      <td>117.480003</td>\n",
       "      <td>47.259998</td>\n",
       "      <td>1.598798</td>\n",
       "    </tr>\n",
       "  </tbody>\n",
       "</table>\n",
       "</div>"
      ],
      "text/plain": [
       "               SPX          GLD          USO          SLV      EUR/USD\n",
       "count  2290.000000  2290.000000  2290.000000  2290.000000  2290.000000\n",
       "mean   1654.315776   122.732875    31.842221    20.084997     1.283653\n",
       "std     519.111540    23.283346    19.523517     7.092566     0.131547\n",
       "min     676.530029    70.000000     7.960000     8.850000     1.039047\n",
       "25%    1239.874969   109.725000    14.380000    15.570000     1.171313\n",
       "50%    1551.434998   120.580002    33.869999    17.268500     1.303297\n",
       "75%    2073.010070   132.840004    37.827501    22.882500     1.369971\n",
       "max    2872.870117   184.589996   117.480003    47.259998     1.598798"
      ]
     },
     "execution_count": 7,
     "metadata": {},
     "output_type": "execute_result"
    }
   ],
   "source": [
    "#getting the statistical measures of the data\n",
    "data.describe()"
   ]
  },
  {
   "cell_type": "code",
   "execution_count": 8,
   "id": "2ef97c39",
   "metadata": {
    "execution": {
     "iopub.execute_input": "2024-05-30T19:25:54.940177Z",
     "iopub.status.busy": "2024-05-30T19:25:54.939318Z",
     "iopub.status.idle": "2024-05-30T19:25:54.967217Z",
     "shell.execute_reply": "2024-05-30T19:25:54.965724Z"
    },
    "papermill": {
     "duration": 0.045245,
     "end_time": "2024-05-30T19:25:54.970531",
     "exception": false,
     "start_time": "2024-05-30T19:25:54.925286",
     "status": "completed"
    },
    "tags": []
   },
   "outputs": [],
   "source": [
    "data['Date'] = pd.to_datetime(data['Date'])"
   ]
  },
  {
   "cell_type": "markdown",
   "id": "2355b5a6",
   "metadata": {
    "papermill": {
     "duration": 0.012094,
     "end_time": "2024-05-30T19:25:54.997244",
     "exception": false,
     "start_time": "2024-05-30T19:25:54.985150",
     "status": "completed"
    },
    "tags": []
   },
   "source": [
    "Correlation:\n",
    "  1. Positive Correlation\n",
    "  2. Negative Correlation\n",
    "  3. Zero Correlation"
   ]
  },
  {
   "cell_type": "code",
   "execution_count": 9,
   "id": "4911d9c7",
   "metadata": {
    "execution": {
     "iopub.execute_input": "2024-05-30T19:25:55.021921Z",
     "iopub.status.busy": "2024-05-30T19:25:55.021437Z",
     "iopub.status.idle": "2024-05-30T19:25:55.030013Z",
     "shell.execute_reply": "2024-05-30T19:25:55.028568Z"
    },
    "papermill": {
     "duration": 0.024053,
     "end_time": "2024-05-30T19:25:55.032477",
     "exception": false,
     "start_time": "2024-05-30T19:25:55.008424",
     "status": "completed"
    },
    "tags": []
   },
   "outputs": [],
   "source": [
    "correlation = data.corr()"
   ]
  },
  {
   "cell_type": "code",
   "execution_count": 10,
   "id": "be96acec",
   "metadata": {
    "execution": {
     "iopub.execute_input": "2024-05-30T19:25:55.058050Z",
     "iopub.status.busy": "2024-05-30T19:25:55.057127Z",
     "iopub.status.idle": "2024-05-30T19:25:55.602093Z",
     "shell.execute_reply": "2024-05-30T19:25:55.600849Z"
    },
    "papermill": {
     "duration": 0.561258,
     "end_time": "2024-05-30T19:25:55.605054",
     "exception": false,
     "start_time": "2024-05-30T19:25:55.043796",
     "status": "completed"
    },
    "tags": []
   },
   "outputs": [
    {
     "data": {
      "text/plain": [
       "<Axes: >"
      ]
     },
     "execution_count": 10,
     "metadata": {},
     "output_type": "execute_result"
    },
    {
     "data": {
      "image/png": "[encoded data removed]",
      "text/plain": [
       "<Figure size 800x800 with 2 Axes>"
      ]
     },
     "metadata": {},
     "output_type": "display_data"
    }
   ],
   "source": [
    "#constructing a heatmap to understand the correlation\n",
    "plt.figure(figsize = (8,8))\n",
    "sns.heatmap(correlation, cbar=True, square=True, fmt='.1f', annot=True, annot_kws={'size': 8}, cmap='Blues')"
   ]
  },
  {
   "cell_type": "code",
   "execution_count": 11,
   "id": "cdb696bd",
   "metadata": {
    "execution": {
     "iopub.execute_input": "2024-05-30T19:25:55.630972Z",
     "iopub.status.busy": "2024-05-30T19:25:55.630525Z",
     "iopub.status.idle": "2024-05-30T19:25:55.636990Z",
     "shell.execute_reply": "2024-05-30T19:25:55.635886Z"
    },
    "papermill": {
     "duration": 0.022956,
     "end_time": "2024-05-30T19:25:55.640182",
     "exception": false,
     "start_time": "2024-05-30T19:25:55.617226",
     "status": "completed"
    },
    "tags": []
   },
   "outputs": [
    {
     "name": "stdout",
     "output_type": "stream",
     "text": [
      "Date       0.209118\n",
      "SPX        0.049345\n",
      "GLD        1.000000\n",
      "USO       -0.186360\n",
      "SLV        0.866632\n",
      "EUR/USD   -0.024375\n",
      "Name: GLD, dtype: float64\n"
     ]
    }
   ],
   "source": [
    "#correlation value of gold\n",
    "print(correlation['GLD'])"
   ]
  },
  {
   "cell_type": "code",
   "execution_count": 12,
   "id": "b161ce7c",
   "metadata": {
    "execution": {
     "iopub.execute_input": "2024-05-30T19:25:55.666781Z",
     "iopub.status.busy": "2024-05-30T19:25:55.665957Z",
     "iopub.status.idle": "2024-05-30T19:25:56.145101Z",
     "shell.execute_reply": "2024-05-30T19:25:56.143814Z"
    },
    "papermill": {
     "duration": 0.495781,
     "end_time": "2024-05-30T19:25:56.147914",
     "exception": false,
     "start_time": "2024-05-30T19:25:55.652133",
     "status": "completed"
    },
    "tags": []
   },
   "outputs": [
    {
     "name": "stderr",
     "output_type": "stream",
     "text": [
      "/opt/conda/lib/python3.10/site-packages/seaborn/_oldcore.py:1119: FutureWarning: use_inf_as_na option is deprecated and will be removed in a future version. Convert inf values to NaN before operating instead.\n",
      "  with pd.option_context('mode.use_inf_as_na', True):\n"
     ]
    },
    {
     "data": {
      "text/plain": [
       "<seaborn.axisgrid.FacetGrid at 0x7aed938ebbb0>"
      ]
     },
     "execution_count": 12,
     "metadata": {},
     "output_type": "execute_result"
    },
    {
     "data": {
      "image/png": "[encoded data removed]",
      "text/plain": [
       "<Figure size 500x500 with 1 Axes>"
      ]
     },
     "metadata": {},
     "output_type": "display_data"
    }
   ],
   "source": [
    "#Checking the distribution of Gold Price\n",
    "sns.displot(data['GLD'], color='red')"
   ]
  },
  {
   "cell_type": "markdown",
   "id": "b07f424a",
   "metadata": {
    "papermill": {
     "duration": 0.012377,
     "end_time": "2024-05-30T19:25:56.173126",
     "exception": false,
     "start_time": "2024-05-30T19:25:56.160749",
     "status": "completed"
    },
    "tags": []
   },
   "source": [
    "splitting features & targets"
   ]
  },
  {
   "cell_type": "code",
   "execution_count": 13,
   "id": "04e6786c",
   "metadata": {
    "execution": {
     "iopub.execute_input": "2024-05-30T19:25:56.201515Z",
     "iopub.status.busy": "2024-05-30T19:25:56.200578Z",
     "iopub.status.idle": "2024-05-30T19:25:56.207493Z",
     "shell.execute_reply": "2024-05-30T19:25:56.206622Z"
    },
    "papermill": {
     "duration": 0.024031,
     "end_time": "2024-05-30T19:25:56.210001",
     "exception": false,
     "start_time": "2024-05-30T19:25:56.185970",
     "status": "completed"
    },
    "tags": []
   },
   "outputs": [],
   "source": [
    "x = data.drop(['Date', 'GLD'], axis=1)\n",
    "y = data['GLD']"
   ]
  },
  {
   "cell_type": "code",
   "execution_count": 14,
   "id": "ed0af87f",
   "metadata": {
    "execution": {
     "iopub.execute_input": "2024-05-30T19:25:56.239001Z",
     "iopub.status.busy": "2024-05-30T19:25:56.238085Z",
     "iopub.status.idle": "2024-05-30T19:25:56.249028Z",
     "shell.execute_reply": "2024-05-30T19:25:56.247781Z"
    },
    "papermill": {
     "duration": 0.02877,
     "end_time": "2024-05-30T19:25:56.251610",
     "exception": false,
     "start_time": "2024-05-30T19:25:56.222840",
     "status": "completed"
    },
    "tags": []
   },
   "outputs": [
    {
     "name": "stdout",
     "output_type": "stream",
     "text": [
      "              SPX        USO      SLV   EUR/USD\n",
      "0     1447.160034  78.470001  15.1800  1.471692\n",
      "1     1447.160034  78.370003  15.2850  1.474491\n",
      "2     1411.630005  77.309998  15.1670  1.475492\n",
      "3     1416.180054  75.500000  15.0530  1.468299\n",
      "4     1390.189941  76.059998  15.5900  1.557099\n",
      "...           ...        ...      ...       ...\n",
      "2285  2671.919922  14.060000  15.5100  1.186789\n",
      "2286  2697.790039  14.370000  15.5300  1.184722\n",
      "2287  2723.070068  14.410000  15.7400  1.191753\n",
      "2288  2730.129883  14.380000  15.5600  1.193118\n",
      "2289  2725.780029  14.405800  15.4542  1.182033\n",
      "\n",
      "[2290 rows x 4 columns]\n"
     ]
    }
   ],
   "source": [
    "print(x)"
   ]
  },
  {
   "cell_type": "code",
   "execution_count": 15,
   "id": "2c5ab15e",
   "metadata": {
    "execution": {
     "iopub.execute_input": "2024-05-30T19:25:56.282587Z",
     "iopub.status.busy": "2024-05-30T19:25:56.281715Z",
     "iopub.status.idle": "2024-05-30T19:25:56.290434Z",
     "shell.execute_reply": "2024-05-30T19:25:56.288720Z"
    },
    "papermill": {
     "duration": 0.025931,
     "end_time": "2024-05-30T19:25:56.292828",
     "exception": false,
     "start_time": "2024-05-30T19:25:56.266897",
     "status": "completed"
    },
    "tags": []
   },
   "outputs": [
    {
     "name": "stdout",
     "output_type": "stream",
     "text": [
      "0        84.860001\n",
      "1        85.570000\n",
      "2        85.129997\n",
      "3        84.769997\n",
      "4        86.779999\n",
      "           ...    \n",
      "2285    124.589996\n",
      "2286    124.330002\n",
      "2287    125.180000\n",
      "2288    124.489998\n",
      "2289    122.543800\n",
      "Name: GLD, Length: 2290, dtype: float64\n"
     ]
    }
   ],
   "source": [
    "print(y)"
   ]
  },
  {
   "cell_type": "markdown",
   "id": "60c86879",
   "metadata": {
    "papermill": {
     "duration": 0.012737,
     "end_time": "2024-05-30T19:25:56.318572",
     "exception": false,
     "start_time": "2024-05-30T19:25:56.305835",
     "status": "completed"
    },
    "tags": []
   },
   "source": [
    "Splitting into training & test data"
   ]
  },
  {
   "cell_type": "code",
   "execution_count": 16,
   "id": "018d9796",
   "metadata": {
    "execution": {
     "iopub.execute_input": "2024-05-30T19:25:56.347625Z",
     "iopub.status.busy": "2024-05-30T19:25:56.346743Z",
     "iopub.status.idle": "2024-05-30T19:25:56.357061Z",
     "shell.execute_reply": "2024-05-30T19:25:56.355915Z"
    },
    "papermill": {
     "duration": 0.027942,
     "end_time": "2024-05-30T19:25:56.359823",
     "exception": false,
     "start_time": "2024-05-30T19:25:56.331881",
     "status": "completed"
    },
    "tags": []
   },
   "outputs": [],
   "source": [
    "x_train, x_test, y_train, y_test = train_test_split(x,y, test_size=0.2, random_state=2)"
   ]
  },
  {
   "cell_type": "markdown",
   "id": "8351b4f1",
   "metadata": {
    "papermill": {
     "duration": 0.012781,
     "end_time": "2024-05-30T19:25:56.385576",
     "exception": false,
     "start_time": "2024-05-30T19:25:56.372795",
     "status": "completed"
    },
    "tags": []
   },
   "source": [
    "# Model Training\n",
    "**Random Forest Regressor**"
   ]
  },
  {
   "cell_type": "code",
   "execution_count": 17,
   "id": "83422dac",
   "metadata": {
    "execution": {
     "iopub.execute_input": "2024-05-30T19:25:56.413505Z",
     "iopub.status.busy": "2024-05-30T19:25:56.413087Z",
     "iopub.status.idle": "2024-05-30T19:25:56.418439Z",
     "shell.execute_reply": "2024-05-30T19:25:56.417154Z"
    },
    "papermill": {
     "duration": 0.022303,
     "end_time": "2024-05-30T19:25:56.420756",
     "exception": false,
     "start_time": "2024-05-30T19:25:56.398453",
     "status": "completed"
    },
    "tags": []
   },
   "outputs": [],
   "source": [
    "regressor = RandomForestRegressor(n_estimators=100)"
   ]
  },
  {
   "cell_type": "markdown",
   "id": "3b7ec045",
   "metadata": {
    "papermill": {
     "duration": 0.012289,
     "end_time": "2024-05-30T19:25:56.445747",
     "exception": false,
     "start_time": "2024-05-30T19:25:56.433458",
     "status": "completed"
    },
    "tags": []
   },
   "source": [
    "**Training**"
   ]
  },
  {
   "cell_type": "code",
   "execution_count": 18,
   "id": "a5ece67a",
   "metadata": {
    "execution": {
     "iopub.execute_input": "2024-05-30T19:25:56.474719Z",
     "iopub.status.busy": "2024-05-30T19:25:56.474266Z",
     "iopub.status.idle": "2024-05-30T19:25:57.217894Z",
     "shell.execute_reply": "2024-05-30T19:25:57.216761Z"
    },
    "papermill": {
     "duration": 0.762183,
     "end_time": "2024-05-30T19:25:57.220369",
     "exception": false,
     "start_time": "2024-05-30T19:25:56.458186",
     "status": "completed"
    },
    "tags": []
   },
   "outputs": [
    {
     "data": {
      "text/html": [
       "<style>#sk-container-id-1 {color: black;background-color: white;}#sk-container-id-1 pre{padding: 0;}#sk-container-id-1 div.sk-toggleable {background-color: white;}#sk-container-id-1 label.sk-toggleable__label {cursor: pointer;display: block;width: 100%;margin-bottom: 0;padding: 0.3em;box-sizing: border-box;text-align: center;}#sk-container-id-1 label.sk-toggleable__label-arrow:before {content: \"▸\";float: left;margin-right: 0.25em;color: #696969;}#sk-container-id-1 label.sk-toggleable__label-arrow:hover:before {color: black;}#sk-container-id-1 div.sk-estimator:hover label.sk-toggleable__label-arrow:before {color: black;}#sk-container-id-1 div.sk-toggleable__content {max-height: 0;max-width: 0;overflow: hidden;text-align: left;background-color: #f0f8ff;}#sk-container-id-1 div.sk-toggleable__content pre {margin: 0.2em;color: black;border-radius: 0.25em;background-color: #f0f8ff;}#sk-container-id-1 input.sk-toggleable__control:checked~div.sk-toggleable__content {max-height: 200px;max-width: 100%;overflow: auto;}#sk-container-id-1 input.sk-toggleable__control:checked~label.sk-toggleable__label-arrow:before {content: \"▾\";}#sk-container-id-1 div.sk-estimator input.sk-toggleable__control:checked~label.sk-toggleable__label {background-color: #d4ebff;}#sk-container-id-1 div.sk-label input.sk-toggleable__control:checked~label.sk-toggleable__label {background-color: #d4ebff;}#sk-container-id-1 input.sk-hidden--visually {border: 0;clip: rect(1px 1px 1px 1px);clip: rect(1px, 1px, 1px, 1px);height: 1px;margin: -1px;overflow: hidden;padding: 0;position: absolute;width: 1px;}#sk-container-id-1 div.sk-estimator {font-family: monospace;background-color: #f0f8ff;border: 1px dotted black;border-radius: 0.25em;box-sizing: border-box;margin-bottom: 0.5em;}#sk-container-id-1 div.sk-estimator:hover {background-color: #d4ebff;}#sk-container-id-1 div.sk-parallel-item::after {content: \"\";width: 100%;border-bottom: 1px solid gray;flex-grow: 1;}#sk-container-id-1 div.sk-label:hover label.sk-toggleable__label {background-color: #d4ebff;}#sk-container-id-1 div.sk-serial::before {content: \"\";position: absolute;border-left: 1px solid gray;box-sizing: border-box;top: 0;bottom: 0;left: 50%;z-index: 0;}#sk-container-id-1 div.sk-serial {display: flex;flex-direction: column;align-items: center;background-color: white;padding-right: 0.2em;padding-left: 0.2em;position: relative;}#sk-container-id-1 div.sk-item {position: relative;z-index: 1;}#sk-container-id-1 div.sk-parallel {display: flex;align-items: stretch;justify-content: center;background-color: white;position: relative;}#sk-container-id-1 div.sk-item::before, #sk-container-id-1 div.sk-parallel-item::before {content: \"\";position: absolute;border-left: 1px solid gray;box-sizing: border-box;top: 0;bottom: 0;left: 50%;z-index: -1;}#sk-container-id-1 div.sk-parallel-item {display: flex;flex-direction: column;z-index: 1;position: relative;background-color: white;}#sk-container-id-1 div.sk-parallel-item:first-child::after {align-self: flex-end;width: 50%;}#sk-container-id-1 div.sk-parallel-item:last-child::after {align-self: flex-start;width: 50%;}#sk-container-id-1 div.sk-parallel-item:only-child::after {width: 0;}#sk-container-id-1 div.sk-dashed-wrapped {border: 1px dashed gray;margin: 0 0.4em 0.5em 0.4em;box-sizing: border-box;padding-bottom: 0.4em;background-color: white;}#sk-container-id-1 div.sk-label label {font-family: monospace;font-weight: bold;display: inline-block;line-height: 1.2em;}#sk-container-id-1 div.sk-label-container {text-align: center;}#sk-container-id-1 div.sk-container {/* jupyter's `normalize.less` sets `[hidden] { display: none; }` but bootstrap.min.css set `[hidden] { display: none !important; }` so we also need the `!important` here to be able to override the default hidden behavior on the sphinx rendered scikit-learn.org. See: https://github.com/scikit-learn/scikit-learn/issues/21755 */display: inline-block !important;position: relative;}#sk-container-id-1 div.sk-text-repr-fallback {display: none;}</style><div id=\"sk-container-id-1\" class=\"sk-top-container\"><div class=\"sk-text-repr-fallback\"><pre>RandomForestRegressor()</pre><b>In a Jupyter environment, please rerun this cell to show the HTML representation or trust the notebook. <br />On GitHub, the HTML representation is unable to render, please try loading this page with nbviewer.org.</b></div><div class=\"sk-container\" hidden><div class=\"sk-item\"><div class=\"sk-estimator sk-toggleable\"><input class=\"sk-toggleable__control sk-hidden--visually\" id=\"sk-estimator-id-1\" type=\"checkbox\" checked><label for=\"sk-estimator-id-1\" class=\"sk-toggleable__label sk-toggleable__label-arrow\">RandomForestRegressor</label><div class=\"sk-toggleable__content\"><pre>RandomForestRegressor()</pre></div></div></div></div></div>"
      ],
      "text/plain": [
       "RandomForestRegressor()"
      ]
     },
     "execution_count": 18,
     "metadata": {},
     "output_type": "execute_result"
    }
   ],
   "source": [
    "#training the model\n",
    "regressor.fit(x_train, y_train)"
   ]
  },
  {
   "cell_type": "markdown",
   "id": "de7686d9",
   "metadata": {
    "papermill": {
     "duration": 0.012486,
     "end_time": "2024-05-30T19:25:57.245679",
     "exception": false,
     "start_time": "2024-05-30T19:25:57.233193",
     "status": "completed"
    },
    "tags": []
   },
   "source": [
    "**Model Evaluation**"
   ]
  },
  {
   "cell_type": "code",
   "execution_count": 19,
   "id": "3c854225",
   "metadata": {
    "execution": {
     "iopub.execute_input": "2024-05-30T19:25:57.273839Z",
     "iopub.status.busy": "2024-05-30T19:25:57.272705Z",
     "iopub.status.idle": "2024-05-30T19:25:57.295760Z",
     "shell.execute_reply": "2024-05-30T19:25:57.294412Z"
    },
    "papermill": {
     "duration": 0.039874,
     "end_time": "2024-05-30T19:25:57.298380",
     "exception": false,
     "start_time": "2024-05-30T19:25:57.258506",
     "status": "completed"
    },
    "tags": []
   },
   "outputs": [],
   "source": [
    "#Prediction on Test Data\n",
    "test_data_pred = regressor.predict(x_test)"
   ]
  },
  {
   "cell_type": "code",
   "execution_count": 20,
   "id": "911be812",
   "metadata": {
    "execution": {
     "iopub.execute_input": "2024-05-30T19:25:57.326412Z",
     "iopub.status.busy": "2024-05-30T19:25:57.325370Z",
     "iopub.status.idle": "2024-05-30T19:25:57.336183Z",
     "shell.execute_reply": "2024-05-30T19:25:57.335334Z"
    },
    "papermill": {
     "duration": 0.027746,
     "end_time": "2024-05-30T19:25:57.338887",
     "exception": false,
     "start_time": "2024-05-30T19:25:57.311141",
     "status": "completed"
    },
    "tags": []
   },
   "outputs": [
    {
     "name": "stdout",
     "output_type": "stream",
     "text": [
      "[168.67329958  81.97479984 115.97820019 127.56460066 120.75290121\n",
      " 154.69999785 150.55219861 126.14980039 117.43409864 126.09030058\n",
      " 116.60260092 171.00090086 141.28479834 168.10649827 115.33010058\n",
      " 117.58370038 137.64350342 170.30260109 159.57590353 159.63089883\n",
      " 155.17130026 125.01380052 175.83759909 157.07070391 125.18400039\n",
      "  93.9464998   77.7778999  120.8341999  119.10079953 167.45910028\n",
      "  88.05120014 125.26610014  91.22320074 117.76420038 121.07499979\n",
      " 136.63740086 115.54960111 115.00110093 148.52849965 107.09340112\n",
      " 104.10720234  87.16079768 126.62970034 118.08159995 154.24669925\n",
      " 119.41920022 108.32190015 108.02759822  93.36870091 127.10119773\n",
      "  74.56420068 113.60979962 121.3596     111.25229906 118.78099911\n",
      " 120.61919931 160.16779932 168.72160142 147.08429686  85.91249858\n",
      "  94.3911004   86.85879894  90.54849971 118.95340064 126.49040053\n",
      " 127.50100026 169.92199959 122.25409937 117.31399915  98.65970006\n",
      " 168.29560124 142.86079747 132.54220164 121.16480162 121.41179942\n",
      " 119.9063004  114.40880162 118.1451005  107.00910104 127.88390025\n",
      " 113.63489987 107.47899998 116.93080074 119.62759874  89.00300018\n",
      "  88.31629869 146.76460191 127.00349974 112.96420038 110.32529843\n",
      " 108.40169882  76.9565991  169.27460202 114.11099922 121.6049993\n",
      " 127.70860186 154.90609865  91.68559924 136.55440149 159.1144032\n",
      " 125.78630042 125.73300035 130.65740179 114.69700127 119.72669977\n",
      "  92.23000018 110.17939912 168.04149957 156.94329957 114.22699957\n",
      " 106.63680138  80.35959977 113.09740031 125.80390062 107.16989899\n",
      " 119.23690083 155.80870405 159.92689917 120.45739981 133.9690034\n",
      " 101.45129966 117.69669798 119.23459995 112.97830093 102.78599901\n",
      " 160.35479795  99.14790054 149.08899925 125.54490096 170.37639864\n",
      " 126.01399874 127.33189782 127.1480014  113.61699941 113.16310074\n",
      " 123.50479878 102.18289898  89.18399969 124.66579936 101.54089951\n",
      " 107.29609883 113.53510058 117.36110087  98.99349923 121.60680057\n",
      " 162.76589878  87.30349877 107.01329982 117.36740051 127.65160107\n",
      " 124.02140033  80.55709921 120.37350053 157.71359788  87.82389988\n",
      " 110.35359943 118.92749908 171.81119897 103.01459922 105.77280037\n",
      " 122.45060032 158.16189741  87.50189842  93.0528003  112.60330035\n",
      " 177.44919939 114.10539969 119.26789992  94.63940086 125.70600033\n",
      " 166.30900142 114.74950056 116.7710011   88.31379857 149.40220155\n",
      " 120.39589962  89.34200022 112.04109965 117.1787003  118.88610126\n",
      "  88.30169986  93.98779972 117.14310001 118.63350214 120.37130044\n",
      " 126.83759788 121.94870001 148.28010084 164.54060087 118.46469968\n",
      " 120.38070126 151.04880032 118.38699887 172.02699879 105.82549966\n",
      " 104.90090127 150.21150193 113.42410076 124.72390086 148.20790027\n",
      " 119.59320128 115.41770037 112.76749971 113.41500192 140.6225007\n",
      " 117.9552975  102.92810027 115.89840085 103.56170163  98.90350009\n",
      " 117.37830064  90.80960004  91.70010023 153.61249929 102.74710013\n",
      " 154.47020078 114.30910168 138.56780059  90.2668985  115.5113995\n",
      " 114.29879938 122.88100051 121.82530025 165.54520151  92.93709954\n",
      " 135.66750152 121.38119946 120.70120068 104.60730032 143.34710306\n",
      " 121.5727991  116.66540028 113.7141008  127.1721972  122.61789947\n",
      " 125.74059895 121.20520059  86.89359859 132.34790183 143.25860265\n",
      "  92.58109927 159.24909905 158.52830222 126.33619914 164.30309904\n",
      " 108.70109947 109.81970078 103.7080987   94.62500018 127.45890258\n",
      " 106.97880073 161.18559948 121.60230038 132.11569961 130.62130149\n",
      " 160.30559914  90.14999872 175.55360192 127.52480059 126.84609817\n",
      "  86.3302989  124.33909955 149.99749761  89.57720043 107.45029976\n",
      " 108.97200003  84.19339908 135.6579008  155.08570236 140.24720315\n",
      "  74.10360033 151.69680131 126.4448003  126.78850014 127.4819994\n",
      " 108.57389935 156.41749992 114.43820123 117.04380141 124.87879935\n",
      " 153.99460138 121.31349982 156.4239982   92.89980081 125.5138014\n",
      " 125.63730032  88.01910082  91.99149926 126.39929888 128.39380341\n",
      " 113.19430136 117.52409739 120.93040045 127.1501976  119.98480073\n",
      " 136.72790089  94.02449952 119.6085007  113.14200095  94.26429938\n",
      " 108.61029984  87.10219902 109.16119926  89.70329982  92.5044\n",
      " 131.55660328 162.43760036  89.4202999  119.99470055 133.39310197\n",
      " 123.75580027 128.25580187 101.92829839  88.76679915 131.62320013\n",
      " 119.90840019 108.62419945 169.89090194 115.3297004   86.56579878\n",
      " 118.75960051  91.03829988 161.92239984 116.66260051 121.63759974\n",
      " 160.32739818 120.0846992  112.77589975 108.50909876 126.53829955\n",
      "  75.87370048 103.04159985 127.34330234 121.77509934  92.61579983\n",
      " 131.99650038 118.41330122 115.91609975 154.52710262 160.12790119\n",
      " 110.13579922 154.73599771 119.35850093 160.47710131 118.6841002\n",
      " 157.79009983 115.09679933 116.44930052 149.24999879 114.66740048\n",
      " 125.90209843 166.4352991  117.59290004 125.27919916 153.21380357\n",
      " 153.37380309 132.15380047 114.69440027 121.1452017  124.2713004\n",
      "  89.87700018 123.31079963 155.09910171 111.92860056 106.92570007\n",
      " 162.07540136 118.48769984 165.59299998 134.14200108 114.82709955\n",
      " 152.9997987  168.81919952 115.00160046 113.87600117 155.65599794\n",
      "  85.41529874 127.16900049 127.90980035 128.93419999 124.59680097\n",
      " 123.57880013  90.57580064 153.17429959  97.14429973 136.80689942\n",
      "  88.98939943 107.48020001 115.08100039 112.65550087 124.56889931\n",
      "  91.43099873 125.49000138 162.38049928 119.79309885 165.27860059\n",
      " 126.89979767 112.39880061 127.37589928  95.29199898  90.97639994\n",
      " 102.91239923 120.81450006  83.02759962 126.25240008 160.44100458\n",
      " 117.27750059 118.26939983 120.0573999  122.59509935 120.01600125\n",
      " 121.60619971 118.12610064 106.94710011 148.55900034 126.44109862\n",
      " 115.71040071  74.0973999  127.92220198 154.7407006  122.84879955\n",
      " 125.6439004   88.86740006 103.28889881 124.95360048 120.22739988\n",
      "  73.51090088 151.36690075 121.09680024 104.7194      86.2012978\n",
      " 115.27649903 172.2222986  119.9884003  159.03629824 113.22009948\n",
      " 121.67620034 118.74860096  95.91849983 118.83509981 125.80610015\n",
      " 118.49599969  96.32710105 153.6199027  122.3305997  147.35029996\n",
      " 159.13160241 113.5777     122.46899952 149.6050982  126.94530054\n",
      " 165.78020052 135.35419985 120.0872997  167.43599834 108.34689965\n",
      " 121.78119817 138.74240101 106.88099902]\n"
     ]
    }
   ],
   "source": [
    "print(test_data_pred)"
   ]
  },
  {
   "cell_type": "code",
   "execution_count": 21,
   "id": "cddedc48",
   "metadata": {
    "execution": {
     "iopub.execute_input": "2024-05-30T19:25:57.367401Z",
     "iopub.status.busy": "2024-05-30T19:25:57.366971Z",
     "iopub.status.idle": "2024-05-30T19:25:57.373652Z",
     "shell.execute_reply": "2024-05-30T19:25:57.372560Z"
    },
    "papermill": {
     "duration": 0.024867,
     "end_time": "2024-05-30T19:25:57.376883",
     "exception": false,
     "start_time": "2024-05-30T19:25:57.352016",
     "status": "completed"
    },
    "tags": []
   },
   "outputs": [
    {
     "name": "stdout",
     "output_type": "stream",
     "text": [
      "R Squared Error :  0.9893116168351309\n"
     ]
    }
   ],
   "source": [
    "#R Squared Error\n",
    "error_score = metrics.r2_score(y_test, test_data_pred)\n",
    "\n",
    "print(\"R Squared Error : \", error_score)"
   ]
  },
  {
   "cell_type": "code",
   "execution_count": 22,
   "id": "6600259d",
   "metadata": {
    "execution": {
     "iopub.execute_input": "2024-05-30T19:25:57.406152Z",
     "iopub.status.busy": "2024-05-30T19:25:57.405728Z",
     "iopub.status.idle": "2024-05-30T19:25:57.411031Z",
     "shell.execute_reply": "2024-05-30T19:25:57.409762Z"
    },
    "papermill": {
     "duration": 0.022758,
     "end_time": "2024-05-30T19:25:57.413207",
     "exception": false,
     "start_time": "2024-05-30T19:25:57.390449",
     "status": "completed"
    },
    "tags": []
   },
   "outputs": [],
   "source": [
    "y_test = list(y_test)"
   ]
  },
  {
   "cell_type": "code",
   "execution_count": 23,
   "id": "a3ad12d2",
   "metadata": {
    "execution": {
     "iopub.execute_input": "2024-05-30T19:25:57.448717Z",
     "iopub.status.busy": "2024-05-30T19:25:57.448201Z",
     "iopub.status.idle": "2024-05-30T19:25:57.845421Z",
     "shell.execute_reply": "2024-05-30T19:25:57.843713Z"
    },
    "papermill": {
     "duration": 0.41957,
     "end_time": "2024-05-30T19:25:57.848517",
     "exception": false,
     "start_time": "2024-05-30T19:25:57.428947",
     "status": "completed"
    },
    "tags": []
   },
   "outputs": [
    {
     "data": {
      "image/png": "[encoded data removed]",
      "text/plain": [
       "<Figure size 640x480 with 1 Axes>"
      ]
     },
     "metadata": {},
     "output_type": "display_data"
    }
   ],
   "source": [
    "import matplotlib.pyplot as plt\n",
    "\n",
    "plt.plot(y_test, color='blue', label='Actual Price')\n",
    "\n",
    "plt.plot(test_data_pred, color='green', label='Predicted Price')\n",
    "\n",
    "plt.title(\"Actual Price vs Predicted Price\")\n",
    "\n",
    "plt.xlabel(\"Values\")\n",
    "\n",
    "plt.ylabel(\"Gold Price\")\n",
    "\n",
    "plt.legend()\n",
    "\n",
    "plt.show()\n"
   ]
  }
 ],
 "metadata": {
  "kaggle": {
   "accelerator": "none",
   "dataSources": [
    {
     "datasetId": 145424,
     "sourceId": 339411,
     "sourceType": "datasetVersion"
    }
   ],
   "dockerImageVersionId": 30698,
   "isGpuEnabled": false,
   "isInternetEnabled": true,
   "language": "python",
   "sourceType": "notebook"
  },
  "kernelspec": {
   "display_name": "Python 3",
   "language": "python",
   "name": "python3"
  },
  "language_info": {
   "codemirror_mode": {
    "name": "ipython",
    "version": 3
   },
   "file_extension": ".py",
   "mimetype": "text/x-python",
   "name": "python",
   "nbconvert_exporter": "python",
   "pygments_lexer": "ipython3",
   "version": "3.10.13"
  },
  "papermill": {
   "default_parameters": {},
   "duration": 9.603164,
   "end_time": "2024-05-30T19:25:58.496899",
   "environment_variables": {},
   "exception": null,
   "input_path": "__notebook__.ipynb",
   "output_path": "__notebook__.ipynb",
   "parameters": {},
   "start_time": "2024-05-30T19:25:48.893735",
   "version": "2.5.0"
  }
 },
 "nbformat": 4,
 "nbformat_minor": 5
}
